{
 "cells": [
  {
   "cell_type": "code",
   "execution_count": 1,
   "id": "c40d3d39-a0f9-4f59-a878-558734acb640",
   "metadata": {},
   "outputs": [
    {
     "name": "stdout",
     "output_type": "stream",
     "text": [
      "테스트 데이터 정확도: 0.8129\n",
      "최종 파이프라인이 'final_pipeline2.pkl'로 저장되었습니다.\n"
     ]
    }
   ],
   "source": [
    "import pandas as pd\n",
    "import numpy as np\n",
    "from sklearn.model_selection import train_test_split\n",
    "from sklearn.preprocessing import StandardScaler, LabelEncoder\n",
    "from sklearn.impute import SimpleImputer\n",
    "from sklearn.compose import ColumnTransformer\n",
    "from sklearn.pipeline import Pipeline\n",
    "from sklearn.linear_model import LogisticRegression\n",
    "from imblearn.over_sampling import SMOTE\n",
    "import joblib\n",
    "\n",
    "# 데이터 로드\n",
    "data = pd.read_csv('Data/HR_Employee.csv')\n",
    "\n",
    "# 1. 타겟 변수와 입력 데이터 분리\n",
    "y = data['Attrition']\n",
    "X = data.drop(columns=['Attrition'])\n",
    "\n",
    "# 2. 범주형 변수 원-핫 인코딩\n",
    "X = pd.get_dummies(X, drop_first=True)\n",
    "\n",
    "# 3. 타겟 변수 라벨 인코딩\n",
    "le = LabelEncoder()\n",
    "y = le.fit_transform(y)\n",
    "\n",
    "# 4. 이상치 처리 - MonthlyIncome 로그 변환\n",
    "if 'MonthlyIncome' in data.columns:\n",
    "    X['MonthlyIncome_Log'] = np.log1p(data['MonthlyIncome'])\n",
    "    X.drop(columns=['MonthlyIncome'], inplace=True)\n",
    "\n",
    "# 5. 파생변수 생성\n",
    "X['YearsWithOtherCompanies'] = (X['TotalWorkingYears'] - X['YearsAtCompany']).apply(lambda x: max(x, 0))\n",
    "X['AgeAtJoining'] = (X['Age'] - X['YearsAtCompany']).apply(lambda x: max(x, 0))\n",
    "X['IncomePerYearWorked'] = X['MonthlyIncome_Log'] / (X['TotalWorkingYears'] + 1)\n",
    "\n",
    "# 6. 데이터 분할\n",
    "X_train, X_test, y_train, y_test = train_test_split(X, y, test_size=0.2, random_state=42)\n",
    "\n",
    "# 7. SMOTE 적용 (훈련 데이터에만)\n",
    "smote = SMOTE(random_state=42)\n",
    "X_train_resampled, y_train_resampled = smote.fit_resample(X_train, y_train)\n",
    "\n",
    "# 8. 누락된 열 자동 추가 함수 정의\n",
    "def add_missing_columns(df, required_columns):\n",
    "    missing_cols = [col for col in required_columns if col not in df.columns]\n",
    "    for col in missing_cols:\n",
    "        df[col] = 0\n",
    "    return df[required_columns]\n",
    "\n",
    "# 9. 스케일링 및 전처리 파이프라인 정의\n",
    "numerical_features = X_train.select_dtypes(include=['int64', 'float64']).columns.tolist()\n",
    "numerical_pipeline = Pipeline(steps=[\n",
    "    ('imputer', SimpleImputer(strategy='mean')),\n",
    "    ('scaler', StandardScaler())\n",
    "])\n",
    "\n",
    "# ColumnTransformer에 수치형 처리 추가\n",
    "preprocessor = ColumnTransformer(transformers=[\n",
    "    ('num', numerical_pipeline, numerical_features)\n",
    "])\n",
    "\n",
    "# 전처리 및 모델 학습 파이프라인\n",
    "model_pipeline = Pipeline(steps=[\n",
    "    ('preprocessor', preprocessor),\n",
    "    ('classifier', LogisticRegression(max_iter=100,  penalty='l2', solver='lbfgs', C=0.5, random_state=42))\n",
    "])\n",
    "\n",
    "# 10. 모델 학습\n",
    "model_pipeline.fit(X_train_resampled, y_train_resampled)\n",
    "\n",
    "# 11. 테스트 데이터 변환 및 정확도 확인\n",
    "X_test_aligned = add_missing_columns(X_test, X_train.columns)  # 누락된 열 추가\n",
    "accuracy = model_pipeline.score(X_test_aligned, y_test)\n",
    "print(f\"테스트 데이터 정확도: {accuracy:.4f}\")\n",
    "\n",
    "# 12. 모델 및 파이프라인 저장\n",
    "joblib.dump(model_pipeline, 'ML_pipeline.pkl')\n",
    "print(\"최종 파이프라인이 'final_pipeline2.pkl'로 저장되었습니다.\")\n"
   ]
  },
  {
   "cell_type": "code",
   "execution_count": null,
   "id": "0cabf8db-dd9c-401b-8f65-dc1fc88af8d7",
   "metadata": {},
   "outputs": [],
   "source": []
  }
 ],
 "metadata": {
  "kernelspec": {
   "display_name": "Python 3 (ipykernel)",
   "language": "python",
   "name": "python3"
  },
  "language_info": {
   "codemirror_mode": {
    "name": "ipython",
    "version": 3
   },
   "file_extension": ".py",
   "mimetype": "text/x-python",
   "name": "python",
   "nbconvert_exporter": "python",
   "pygments_lexer": "ipython3",
   "version": "3.12.7"
  }
 },
 "nbformat": 4,
 "nbformat_minor": 5
}
